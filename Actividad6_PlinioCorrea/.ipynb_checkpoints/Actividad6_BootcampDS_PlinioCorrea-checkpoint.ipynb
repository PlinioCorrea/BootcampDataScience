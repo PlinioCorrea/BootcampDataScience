{
 "cells": [
  {
   "cell_type": "markdown",
   "id": "98be9fe5-6435-48de-955d-8b31a9c2c1d0",
   "metadata": {},
   "source": [
    "### Se realiza conexión con la API de NewsAPI"
   ]
  },
  {
   "cell_type": "code",
   "execution_count": 7,
   "id": "b16d3de2-bcd8-48ca-b282-b51140e5433a",
   "metadata": {},
   "outputs": [
    {
     "name": "stdout",
     "output_type": "stream",
     "text": [
      "{'status': 'ok', 'totalResults': 33, 'articles': [{'source': {'id': 'politico', 'name': 'Politico'}, 'author': None, 'title': 'Stranger charged with break-in, murder in slaying of Detroit synagogue leader - POLITICO', 'description': 'Samantha Woll was killed in October.', 'url': 'https://www.politico.com/news/2023/12/13/stranger-charged-murder-detroit-synagogue-leader-00131660', 'urlToImage': 'https://static.politico.com/44/66/ff418dd643e3b6991823288b990a/us-synagogue-president-slain-39210.jpg', 'publishedAt': '2023-12-14T02:05:47Z', 'content': 'Attorney Brian Brown said he will vigorously defend Jackson-Bolanos.\\r\\nI dont necessarily agree with the charges, Brown told The Associated Press. Well wait for the evidence.\\r\\nWoll, 40, was found dead… [+1211 chars]'}, {'source': {'id': 'espn', 'name': 'ESPN'}, 'author': 'Kendra Andrews', 'title': \"NBA suspends Draymond Green indefinitely, cites 'repeated history' - ESPN\", 'description': \"Warriors forward Draymond Green has been suspended indefinitely by the NBA for striking Suns center Jusuf Nurkić in the face. He will be required to meet 'certain league and team conditions' before he returns to play.\", 'url': 'https://www.espn.com/nba/story/_/id/39108236/golden-state-warriors-draymond-green-suspended-indefinitely-nba', 'urlToImage': 'https://a2.espncdn.com/combiner/i?img=%2Fphoto%2F2023%2F1213%2Fr1265711_1296x729_16%2D9.jpg', 'publishedAt': '2023-12-14T01:13:00Z', 'content': \"Golden State Warriors forward Draymond Green has been suspended indefinitely by the NBA for striking Phoenix Suns center Jusuf Nurki in the face during Tuesday night's game, the league announced Wedn… [+4074 chars]\"}, {'source': {'id': 'cbs-news', 'name': 'CBS News'}, 'author': 'Caitlin Yilek', 'title': 'House votes to formalize Biden impeachment inquiry, escalating GOP probe - CBS News', 'description': 'Republicans have said that formalizing the inquiry would give them leverage in court as they demand documents and witness testimony.', 'url': 'https://www.cbsnews.com/news/biden-impeachment-inquiry-house-vote-today/', 'urlToImage': 'https://assets2.cbsnewsstatic.com/hub/i/r/2023/12/13/7d4e24b3-75cd-4cfa-ae24-f1f5c886a6b4/thumbnail/1200x630g2/92add502f4aa4bb59983e735d499483a/gettyimages-1845684462.jpg?v=5382e209c94ee904b3a96a69f8ca0ce0', 'publishedAt': '2023-12-14T01:02:00Z', 'content': \"Washington — The House voted to formalize the Republican majority's impeachment inquiry into President Biden on Wednesday, a move that could give them more legal firepower to investigate his family's… [+6891 chars]\"}, {'source': {'id': None, 'name': 'CNBC'}, 'author': 'Hakyung Kim', 'title': 'Stock futures rise Wednesday night after Dow closes at a record high: Live updates - CNBC', 'description': \"The major averages ended Wednesday's session on a strong note, lifted by the Federal Reserve's rate cut outlook.\", 'url': 'https://www.cnbc.com/2023/12/13/stock-market-today-live-updates.html', 'urlToImage': 'https://image.cnbcfm.com/api/v1/image/107347087-1702481801403-gettyimages-1852376211-_s1_1870_jku8vkat.jpeg?v=1702481917&w=1920&h=1080', 'publishedAt': '2023-12-14T01:00:00Z', 'content': 'U.S. stock futures climbed Wednesday night after the Federal Reserve indicated multiple rate cuts in 2024, and the Dow Jones Industrial Average closed at an all-time high.\\r\\nFutures tied to the 30-sto… [+1739 chars]'}, {'source': {'id': 'axios', 'name': 'Axios'}, 'author': 'Axios', 'title': \"Supreme Court's abortion pill case creates GOP heartburn - Axios\", 'description': None, 'url': 'https://www.axios.com/2023/12/14/supreme-court-abortion-pill-mifepristone-congress', 'urlToImage': None, 'publishedAt': '2023-12-14T00:25:22Z', 'content': None}, {'source': {'id': 'reuters', 'name': 'Reuters'}, 'author': 'Reuters', 'title': 'Tesla recalls nearly all vehicles on US roads over lack of Autopilot safeguards - Reuters', 'description': None, 'url': 'https://www.reuters.com/business/autos-transportation/tesla-update-software-autopilot-control-issue-2-mln-vehicles-nhtsa-2023-12-13/', 'urlToImage': None, 'publishedAt': '2023-12-14T00:21:00Z', 'content': None}, {'source': {'id': None, 'name': 'Eonline.com'}, 'author': 'Kisha Forde', 'title': \"You'll Want Another Look at Bradley Cooper's Reaction to Lady Gaga Attending Maestro Premiere - E! NEWS\", 'description': 'Maestro star Bradley Cooper detailed his appreciation for friend and former costar Lady Gaga attending the premiere of his new movie in an exclusive interview with E! News.', 'url': 'https://www.eonline.com/news/1391390/youll-want-another-look-at-bradley-coopers-reaction-to-lady-gaga-attending-maestro-premiere', 'urlToImage': 'https://akns-images.eonline.com/eol_images/Entire_Site/20231113/cr_1200x1200-231213080907-rs_1024x749-231213061726-GettyImages-1851434241.jpg?fit=around%7C1080:1080&output-quality=90&crop=1080:1080;center,top', 'publishedAt': '2023-12-14T00:15:00Z', 'content': 'This friendship is anything but shallow.\\r\\nAs for the proof? Lady Gaga, who starred alongsideBradley Cooper\\xa0in the 2018 remake of A Star is Born, stepped out to support the actor for the Los Angeles p… [+727 chars]'}, {'source': {'id': None, 'name': 'NBCSports.com'}, 'author': 'Mike Florio', 'title': 'Troy Vincent: Kickoff has become a \"dead, ceremonial play\" - NBC Sports', 'description': \"What's next for the kickoff?\", 'url': 'https://www.nbcsports.com/nfl/profootballtalk/rumor-mill/news/troy-vincent-kickoff-has-become-a-dead-ceremonial-play', 'urlToImage': 'https://nbcsports.brightspotcdn.com/dims4/default/a296c48/2147483647/strip/true/crop/5472x3078+0+285/resize/1440x810!/quality/90/?url=https%3A%2F%2Fnbc-sports-production-nbc-sports.s3.us-east-1.amazonaws.com%2Fbrightspot%2F6d%2F19%2F0f02126945dc96c2da58774f99f7%2Fhttps-delivery-gettyimages.com%2Fdownloads%2F1244610384', 'publishedAt': '2023-12-14T00:13:00Z', 'content': 'In making the kickoff safer, the NFL has made the kickoff largely irrelevant.\\r\\nOn Wednesday, NFL executive V.P. of officiating Troy Vincent made the leagues perception of the play clear.\\r\\nI think kic… [+1446 chars]'}, {'source': {'id': None, 'name': 'WMUR Manchester'}, 'author': 'Matt Hoenig', 'title': 'Video: Mostly clear night in New Hampshire ideal for viewing Geminid meteor shower - WMUR Manchester', 'description': 'A quiet but chilly stretch continues for the next few days, then turning milder back into the 40s for Friday and this weekend.', 'url': 'https://www.wmur.com/article/new-hampshire-weather-video-forecast-121323/46122406', 'urlToImage': 'https://kubrick.htvapps.com/htv-prod-media.s3.amazonaws.com/images/poster-image-12-657a442632cee.jpg?crop=1.00xw:1.00xh;0,0&resize=1200:*', 'publishedAt': '2023-12-13T23:59:00Z', 'content': 'A quiet but chilly stretch continues for the next few days, then turning milder back into the 40s for Friday and this weekend.\\r\\nA mostly clear night will be good for viewing the Geminid meteor shower… [+521 chars]'}, {'source': {'id': 'associated-press', 'name': 'Associated Press'}, 'author': 'ERIC TUCKER, ALANNA DURKIN RICHER', 'title': 'Judge pauses Trump’s 2020 election interference case - The Associated Press', 'description': 'A judge says Donald Trump’s 2020 election interference case in Washington will be put on hold while the former president further pursues his claims that he is immune from prosecution. U.S. District Judge Tanya Chutkan agreed Wednesday to pause any “further pr…', 'url': 'https://apnews.com/article/trump-justice-department-january-6-appeal-20726ba42ac87cd2f3a3ffc6a2145490', 'urlToImage': 'https://dims.apnews.com/dims4/default/05e1fd4/2147483647/strip/true/crop/5472x3078+0+285/resize/1440x810!/quality/90/?url=https%3A%2F%2Fassets.apnews.com%2Ff7%2Fb2%2F2b1cb596e52ce4b810120f59df03%2Fce14b29cac784da987c32b1828e0b3a0', 'publishedAt': '2023-12-13T23:31:00Z', 'content': 'WASHINGTON (AP) Donald Trumps election interference case in Washington will be put on hold while the former president further pursues his claims that he is immune from prosecution, a judge ruled Wedn… [+5982 chars]'}, {'source': {'id': 'nfl-news', 'name': 'NFL News'}, 'author': None, 'title': 'NFL playoff picture: Postseason probabilities entering Week 15 of 2023 season - NFL.com', 'description': 'How much would the Broncos boost their chase for a postseason spot by beating the Lions? Will the loser of Steelers-Colts fall out of the playoff picture completely? A new Next Gen Stats model provides the playoff chances of each team in contention.', 'url': 'https://www.nfl.com/news/nfl-playoff-picture-postseason-probabilities-entering-week-15-of-2023-season', 'urlToImage': 'https://static.www.nfl.com/image/upload/t_editorial_landscape_12_desktop/league/awtktikuwyyycqmgptpk', 'publishedAt': '2023-12-13T23:11:00Z', 'content': \"The newest Next Gen Stats model simulates the remainder of the NFL season 10,000 times to provide detailed estimates of each team's playoff chances. Through the rest of the regular season, the NGS An… [+1083 chars]\"}, {'source': {'id': 'associated-press', 'name': 'Associated Press'}, 'author': 'WAFAA SHURAFA, JACK JEFFERY, MELANIE LIDMAN', 'title': 'Israel-Hamas war: Ambush kills 9 Israeli soldiers in Gaza - The Associated Press', 'description': 'The Israeli military says Palestinian militants ambushed troops in a dense Gaza City neighborhood, killing at least nine of them. The fighting comes as Hamas puts up stiff resistance in areas that Israel has isolated and pounded with airstrikes for over two m…', 'url': 'https://apnews.com/article/israel-hamas-war-news-12-13-2023-10a0370b7b320d73def6b6a2a137f16a', 'urlToImage': 'https://dims.apnews.com/dims4/default/32ab7b9/2147483647/strip/true/crop/8640x4860+0+450/resize/1440x810!/quality/90/?url=https%3A%2F%2Fassets.apnews.com%2F62%2F89%2F855e516dba5a3a4868fc1b406565%2Fdde7bf17e95b43d292e010db4aa3ad74', 'publishedAt': '2023-12-13T22:45:00Z', 'content': 'DEIR AL-BALAH, Gaza Strip (AP) Palestinian militants carried out one of the deadliest single attacks on Israeli soldiers since the Gaza invasion began, killing at least nine in an urban ambush, the m… [+7687 chars]'}, {'source': {'id': 'usa-today', 'name': 'USA Today'}, 'author': 'Amaris Encinas', 'title': \"Texas couple makes gingerbread Buc-ee's, complete with Santa, snow - USA TODAY\", 'description': \"Deanna and Paul Vaters created a gingerbread model of one of their favorite places: Buc-ee's. The creation was designed after the store in Bastrop.\", 'url': 'https://www.usatoday.com/story/money/2023/12/13/bucees-gingerbread-texas/71910235007/', 'urlToImage': 'https://www.usatoday.com/gcdn/authoring/authoring-images/2023/12/13/USAT/71908867007-clean.jpg?crop=1919,1079,x0,y0&width=1919&height=1079&format=pjpg&auto=webp', 'publishedAt': '2023-12-13T21:59:10Z', 'content': 'A Texas couple has made National Gingerbread House Day extra special this year by creating a cookie model of one of their favorite places: Buc-ees.\\xa0\\r\\nDeanna and Paul Vaters of Georgetown, about 30 mi… [+3154 chars]'}, {'source': {'id': None, 'name': 'Page Six'}, 'author': 'Nicki Cox', 'title': 'Taylor Swift gets barrage of flowers delivered to her NYC apartment on 34th birthday - Page Six', 'description': 'The hitmaker kicked off her birthday festivities on Tuesday night by going out to dinner with Selena Gomez, Miles Teller and his wife, Keleigh Teller.', 'url': 'https://pagesix.com/2023/12/13/entertainment/taylor-swift-gets-barrage-of-flowers-delivered-to-her-nyc-apartment-on-34th-birthday/', 'urlToImage': 'https://pagesix.com/wp-content/uploads/sites/3/2023/12/UPDATE-Taylor-Swift-gets-barrage-of-flowers-delivered-to-her-NYC-apartment-1.jpg?quality=75&strip=all&w=1024', 'publishedAt': '2023-12-13T21:32:00Z', 'content': 'Hard not to notice all the roses.\\r\\nTaylor Swift had a barrage of flowers delivered to her luxe New York City apartment on Wednesday to commemorate her 34th birthday.\\r\\nSwift’s closest friends and fami… [+4045 chars]'}, {'source': {'id': 'cnn', 'name': 'CNN'}, 'author': 'Clare Foran, Ted  Barrett', 'title': 'Senate passes sweeping defense policy bill - CNN', 'description': 'The Senate voted on\\xa0Wednesday\\xa0to pass a critical defense policy bill known as the\\xa0National Defense Authorization Act, which sets the policy agenda and authorizes funding for the Department of Defense annually.', 'url': 'https://www.cnn.com/2023/12/13/politics/senate-ndaa-vote/index.html', 'urlToImage': 'https://media.cnn.com/api/v1/images/stellar/prod/230727160744-senate-vote-ndaa.jpg?c=16x9&q=w_800,c_fill', 'publishedAt': '2023-12-13T21:15:00Z', 'content': 'The Senate voted on\\xa0Wednesday\\xa0to pass a critical defense policy bill known as the\\xa0National Defense Authorization Act, which sets the policy agenda and authorizes funding for the Department of Defense… [+2516 chars]'}, {'source': {'id': 'abc-news', 'name': 'ABC News'}, 'author': 'Lucien Bruggeman, Laura Romero', 'title': \"Giuliani defamation trial live updates: 'Lady Ruby' gives judge infamous ginger mint at heart of allegations - ABC News\", 'description': '', 'url': 'https://abcnews.go.com/US/live-updates/giuliani-defamation-trial/freeman-gives-judge-infamous-ginger-mint-at-heart-of-allegations-105638253?id=105479446', 'urlToImage': 'https://s.abcnews.com/images/US/rudy-giuliani-ap-jef-231213_1702478087895_hpMain_16x9_1600.jpg', 'publishedAt': '2023-12-13T21:10:00Z', 'content': 'When Rudy Giuliani accused Ruby Freeman of \"surreptitiously\" passing her daughter a USB drive while the two were counting ballots on Election Day at State Farm Arena -- a central tenet of his false c… [+708 chars]'}, {'source': {'id': 'associated-press', 'name': 'Associated Press'}, 'author': 'MEG KINNARD, CHRISTINE FERNANDO, MICHELLE L. PRICE', 'title': \"Some 2024 GOP hopefuls call for 'compassion' in Texas abortion case but don't say law should change - The Associated Press\", 'description': 'Former South Carolina Gov. Nikki Haley and Florida Gov. Ron DeSantis have called for “compassion” in the case of a woman whose health deteriorated as she unsuccessfully sought an abortion in Texas, but they stopped short of criticizing the state’s law. The co…', 'url': 'https://apnews.com/article/abortion-texas-nikki-haley-ron-desantis-acfa9e03cf7ea3511d3e6a1e746bee4e', 'urlToImage': 'https://dims.apnews.com/dims4/default/7bfe630/2147483647/strip/true/crop/4915x2765+0+256/resize/1440x810!/quality/90/?url=https%3A%2F%2Fassets.apnews.com%2F69%2F9b%2F35e6a7ca40e0a7f65866a7d216e1%2Fa88f5b8c79414b4e9facad33e5508034', 'publishedAt': '2023-12-13T21:08:00Z', 'content': 'WASHINGTON (AP) Some of the Republicans seeking their partys 2024 presidential nomination have said the case of a Texas woman whose health deteriorated as she unsuccessfully sought an abortion should… [+5950 chars]'}, {'source': {'id': None, 'name': 'Nintendo Life'}, 'author': 'Ollie Reynolds', 'title': \"Video: We've Played Prince Of Persia: The Lost Crown - Here's 12 Minutes Of Switch Gameplay - Nintendo Life\", 'description': 'Welcome back, your majesty', 'url': 'https://www.nintendolife.com/news/2023/12/video-weve-played-prince-of-persia-the-lost-crown-heres-12-minutes-of-switch-gameplay', 'urlToImage': 'https://images.nintendolife.com/e0790a1fb75dc/1280x720.jpg', 'publishedAt': '2023-12-13T21:00:00Z', 'content': \"Subscribe to Nintendo Life on YouTube\\r\\nWe recently got to go hands-on with Ubisoft's upcoming Metroidvania Prince of Persia: The Lost Crown and came away feeling rather chuffed with the experience, i… [+1035 chars]\"}, {'source': {'id': None, 'name': 'Futurism'}, 'author': 'Noor Al-Sibai', 'title': 'Scientists Surprised by Samples Recovered From Ancient Asteroid - Futurism', 'description': \"NASA scientists are hard at work sifting through samples from an ancient asteroid, and what they've found so far has been fascinating.\", 'url': 'https://futurism.com/the-byte/scientists-surprised-bennu-samples', 'urlToImage': 'https://wp-assets.futurism.com/2023/12/scientists-surprised-bennu-samples.jpg', 'publishedAt': '2023-12-13T19:00:56Z', 'content': '\"Its kind of like Schrödingers sample.\"\\r\\nTechnical Difficulties\\r\\nNASA scientists are hard at work sifting through samples from an asteroid dating to the dawn of our Solar System, and what they\\'ve fou… [+2566 chars]'}, {'source': {'id': 'cbs-news', 'name': 'CBS News'}, 'author': 'Kerry Breen', 'title': 'NASA rover unravels history of lake on Mars that grew up to 22 miles wide, 100 feet deep - CBS News', 'description': 'Perseverance, which landed on Mars\\u200b in 2021, has been exploring the planet for signs of ancient life.', 'url': 'https://www.cbsnews.com/news/nasa-rover-history-lake-mars-water-jezero-crater/', 'urlToImage': 'https://assets2.cbsnewsstatic.com/hub/i/r/2023/12/13/7efe7f31-a4a9-4f91-8935-e1768801f6a3/thumbnail/1200x630/f89e1218a431111da0d4f91f0dfb8cf9/screen-shot-2023-12-13-at-12-05-54-pm.png?v=5382e209c94ee904b3a96a69f8ca0ce0', 'publishedAt': '2023-12-13T17:53:00Z', 'content': \"NASA's Perseverance rover has learned new data about a major crater on Mars, teaching researchers and astronomers about how the structure was formed and when water was present on the planet.\\xa0\\r\\nPersev… [+2061 chars]\"}]}\n"
     ]
    }
   ],
   "source": [
    "#!pip install pandas requests\n",
    "\n",
    "import requests\n",
    "import pandas as pd\n",
    "\n",
    "api_key = '415fea88e30f4ac1998929bc7a29b857'\n",
    "url = 'https://newsapi.org/v2/top-headlines'\n",
    "params = {'country': 'us', 'apiKey': api_key}\n",
    "\n",
    "response = requests.get(url, params=params)\n",
    "data = response.json()\n",
    "print(data)"
   ]
  },
  {
   "cell_type": "markdown",
   "id": "dc2c9aea-ebee-4923-b095-6260852a3f14",
   "metadata": {},
   "source": [
    "### Se genera un DatFrame con los datos de la API"
   ]
  },
  {
   "cell_type": "code",
   "execution_count": 6,
   "id": "8114c766-990f-44e1-bac9-1b7d69fbe304",
   "metadata": {},
   "outputs": [
    {
     "name": "stdout",
     "output_type": "stream",
     "text": [
      "     source          author  \\\n",
      "0  Politico            None   \n",
      "1      ESPN  Kendra Andrews   \n",
      "2  CBS News   Caitlin Yilek   \n",
      "3      CNBC     Hakyung Kim   \n",
      "4     Axios           Axios   \n",
      "\n",
      "                                               title  \\\n",
      "0  Stranger charged with break-in, murder in slay...   \n",
      "1  NBA suspends Draymond Green indefinitely, cite...   \n",
      "2  House votes to formalize Biden impeachment inq...   \n",
      "3  Stock futures rise Wednesday night after Dow c...   \n",
      "4  Supreme Court's abortion pill case creates GOP...   \n",
      "\n",
      "                                         description  \\\n",
      "0               Samantha Woll was killed in October.   \n",
      "1  Warriors forward Draymond Green has been suspe...   \n",
      "2  Republicans have said that formalizing the inq...   \n",
      "3  The major averages ended Wednesday's session o...   \n",
      "4                                               None   \n",
      "\n",
      "                                                 url  \n",
      "0  https://www.politico.com/news/2023/12/13/stran...  \n",
      "1  https://www.espn.com/nba/story/_/id/39108236/g...  \n",
      "2  https://www.cbsnews.com/news/biden-impeachment...  \n",
      "3  https://www.cnbc.com/2023/12/13/stock-market-t...  \n",
      "4  https://www.axios.com/2023/12/14/supreme-court...  \n"
     ]
    }
   ],
   "source": [
    "if 'articles' in data:\n",
    "    seleccionar =['source', 'author', 'title', 'description', 'url']\n",
    "    df = pd.DataFrame(data['articles'], columns=seleccionar)\n",
    "    df['source'] = df['source'].apply(lambda x: x['name'] if x and 'name' in x else None)\n",
    "    print(df.head())\n",
    "else:\n",
    "    print('No se encontraron artículos en la respuesta de la API.')"
   ]
  },
  {
   "cell_type": "code",
   "execution_count": null,
   "id": "f4492839-fd57-4ae5-a7d9-7718c98b2eac",
   "metadata": {},
   "outputs": [],
   "source": []
  }
 ],
 "metadata": {
  "kernelspec": {
   "display_name": "Python 3 (ipykernel)",
   "language": "python",
   "name": "python3"
  },
  "language_info": {
   "codemirror_mode": {
    "name": "ipython",
    "version": 3
   },
   "file_extension": ".py",
   "mimetype": "text/x-python",
   "name": "python",
   "nbconvert_exporter": "python",
   "pygments_lexer": "ipython3",
   "version": "3.12.0"
  }
 },
 "nbformat": 4,
 "nbformat_minor": 5
}
